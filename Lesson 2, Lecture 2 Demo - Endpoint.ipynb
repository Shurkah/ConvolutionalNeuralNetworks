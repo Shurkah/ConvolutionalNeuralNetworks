{
 "cells": [
  {
   "cell_type": "markdown",
   "id": "f3b2110b",
   "metadata": {},
   "source": [
    "# UDACITY: Endpoint Demo"
   ]
  },
  {
   "cell_type": "code",
   "execution_count": 7,
   "id": "57950aab",
   "metadata": {},
   "outputs": [
    {
     "name": "stdout",
     "output_type": "stream",
     "text": [
      "----!"
     ]
    }
   ],
   "source": [
    "from sagemaker import get_execution_role\n",
    "from sagemaker.model import Model\n",
    "from sagemaker import image_uris\n",
    "\n",
    "role = get_execution_role()\n",
    "\n",
    "# You'll need to confirm that this region is located in the same place as the S3 uri of your training job.\n",
    "# (Check the upper right-hand side of the console.)\n",
    "\n",
    "image_uri = image_uris.retrieve(framework='blazingtext', region = 'eu-central-1')\n",
    "\n",
    "# You'll need to replace this model data with the output S3 uri of your training job. \n",
    "\n",
    "model_data = \"s3://sagemaker-eu-central-1-961953052480/s3://shubuck/nothingworks//output/blazingtext-2023-08-26-16-40-57-914/output/model.tar.gz\"\n",
    "\n",
    "model = Model(image_uri=image_uri, model_data=model_data, role=role)\n",
    "\n",
    "predictor = model.deploy(initial_instance_count=1, instance_type=\"ml.m5.large\")\n"
   ]
  }
 ],
 "metadata": {
  "kernelspec": {
   "display_name": "conda_pytorch_p310",
   "language": "python",
   "name": "conda_pytorch_p310"
  },
  "language_info": {
   "codemirror_mode": {
    "name": "ipython",
    "version": 3
   },
   "file_extension": ".py",
   "mimetype": "text/x-python",
   "name": "python",
   "nbconvert_exporter": "python",
   "pygments_lexer": "ipython3",
   "version": "3.10.12"
  }
 },
 "nbformat": 4,
 "nbformat_minor": 5
}
